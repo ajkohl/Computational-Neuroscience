{
 "cells": [
  {
   "cell_type": "markdown",
   "id": "a38118c8-99e1-4e1e-9c89-c13de1ff387b",
   "metadata": {},
   "source": [
    "# A brief tutorial on the basics of python\n",
    "\n",
    "E. Busch for CMHN 2023   \n",
    "Based off: https://github.com/brainiak/hackathon/blob/master/python_tutorial.ipynb and https://docs.python.org/3/tutorial/"
   ]
  },
  {
   "cell_type": "code",
   "execution_count": null,
   "id": "101489f0-5b4f-4766-89ee-62846c8649cf",
   "metadata": {
    "tags": []
   },
   "outputs": [],
   "source": [
    "import this"
   ]
  },
  {
   "cell_type": "markdown",
   "id": "204610fb-c71e-43e4-a4e1-10d985d55269",
   "metadata": {},
   "source": [
    "## Arithmetic\n",
    "Basic arithmetic in python follows PEMDAS order of operations:"
   ]
  },
  {
   "cell_type": "code",
   "execution_count": null,
   "id": "5495cebe-f6a2-4b8c-8993-536653287ae9",
   "metadata": {},
   "outputs": [],
   "source": [
    "2+2"
   ]
  },
  {
   "cell_type": "code",
   "execution_count": null,
   "id": "61a944e2-be34-4987-b923-e782e6327358",
   "metadata": {},
   "outputs": [],
   "source": [
    "(50 - 5 * 6) / 4"
   ]
  },
  {
   "cell_type": "code",
   "execution_count": null,
   "id": "d7a97132-f1a6-4946-a187-3e68823fb745",
   "metadata": {},
   "outputs": [],
   "source": [
    "5/2"
   ]
  },
  {
   "cell_type": "code",
   "execution_count": null,
   "id": "1790620b-15b8-44a7-9c32-b67b46bb8449",
   "metadata": {},
   "outputs": [],
   "source": [
    "5//2"
   ]
  },
  {
   "cell_type": "code",
   "execution_count": null,
   "id": "23572d1f-7dd4-4625-abba-8080e0a641c7",
   "metadata": {},
   "outputs": [],
   "source": [
    "2 ** 3"
   ]
  },
  {
   "cell_type": "code",
   "execution_count": null,
   "id": "12e9820e-91a5-4eda-a937-d139bf18c58e",
   "metadata": {},
   "outputs": [],
   "source": [
    "2 * 3"
   ]
  },
  {
   "cell_type": "code",
   "execution_count": null,
   "id": "122ca8a6-c67b-4f90-87dd-a643aacd42e0",
   "metadata": {},
   "outputs": [],
   "source": [
    "# How does jupyter output information? Only the final output is rendered: \n",
    "1 + 1\n",
    "2 + 1"
   ]
  },
  {
   "cell_type": "code",
   "execution_count": null,
   "id": "5aa26b23-81bc-4fdb-b2a1-49f9d0ca642a",
   "metadata": {},
   "outputs": [],
   "source": [
    "# but you can use the `print` function to display multiple outputs:\n",
    "print(1 + 1)\n",
    "print(2 + 1)"
   ]
  },
  {
   "cell_type": "code",
   "execution_count": null,
   "id": "6365c75e-7d7a-4bae-9880-e07b20c39929",
   "metadata": {},
   "outputs": [],
   "source": [
    "# if you save the output of an operation into a variable, no output is rendered:\n",
    "number = 1 + 1\n"
   ]
  },
  {
   "cell_type": "code",
   "execution_count": null,
   "id": "802fe03f-fa06-4134-aafa-87a374fe7884",
   "metadata": {},
   "outputs": [],
   "source": [
    "print(number, number * 2)"
   ]
  },
  {
   "cell_type": "code",
   "execution_count": null,
   "id": "daa90c42-989f-47e4-be18-10237e19ee81",
   "metadata": {},
   "outputs": [],
   "source": [
    "# augmented assignment: \n",
    "number += 1 \n",
    "print(number)"
   ]
  },
  {
   "cell_type": "markdown",
   "id": "4fcabd97-cfb1-42a2-8078-947ae56696aa",
   "metadata": {},
   "source": [
    "## Strings\n",
    "Are arrays of bytes representing unicode characters."
   ]
  },
  {
   "cell_type": "code",
   "execution_count": null,
   "id": "0846221d-33e3-49c0-a6d6-d3aa136bbb02",
   "metadata": {},
   "outputs": [],
   "source": [
    "my_string = \"Yes\"\n"
   ]
  },
  {
   "cell_type": "code",
   "execution_count": null,
   "id": "d0b1db40-d122-4c84-b918-5f08cf9a113f",
   "metadata": {},
   "outputs": [],
   "source": [
    "print(my_string)"
   ]
  },
  {
   "cell_type": "code",
   "execution_count": null,
   "id": "c59543d9-ab5d-43a9-9f31-1120dac03398",
   "metadata": {},
   "outputs": [],
   "source": [
    "print(\"My string is \" +my_string)"
   ]
  },
  {
   "cell_type": "code",
   "execution_count": null,
   "id": "f1deda2f-66e7-41fe-8393-25034883d66f",
   "metadata": {},
   "outputs": [],
   "source": [
    "print(f\"My string is {my_string}\")"
   ]
  },
  {
   "cell_type": "code",
   "execution_count": null,
   "id": "d54d9f42-7a7d-4ef0-b80c-27ba804e1e75",
   "metadata": {},
   "outputs": [],
   "source": [
    "# you can join strings :\n",
    "\n",
    "\"This is \" + \"a sentence\""
   ]
  },
  {
   "cell_type": "code",
   "execution_count": null,
   "id": "b9b66bd5-3333-4503-aa59-1c14a017ded9",
   "metadata": {},
   "outputs": [],
   "source": [
    "word = \"python\""
   ]
  },
  {
   "cell_type": "code",
   "execution_count": null,
   "id": "20781b1c-61ed-41dd-9f42-f3513f9e723c",
   "metadata": {},
   "outputs": [],
   "source": [
    "# python does 0-based indexing:\n",
    "word[0]"
   ]
  },
  {
   "cell_type": "code",
   "execution_count": null,
   "id": "a505b69e-4dc9-4ef0-b3d0-d24b6eea6438",
   "metadata": {},
   "outputs": [],
   "source": [
    "# you can also index backwards:\n",
    "word[-1]"
   ]
  },
  {
   "cell_type": "code",
   "execution_count": null,
   "id": "f061dbca-bcfe-49a1-8f5a-3c3db723cabd",
   "metadata": {},
   "outputs": [],
   "source": [
    "# you can also slice into a string:\n",
    "# Start index is inclusive, end is exclusive\n",
    "print(word[0:2])"
   ]
  },
  {
   "cell_type": "code",
   "execution_count": null,
   "id": "08881dfb-f0e4-4e34-98fb-0b8338c71287",
   "metadata": {},
   "outputs": [],
   "source": [
    "# It makes sense!\n",
    "print(word[0:2] + word[2:-1] + word[-1])"
   ]
  },
  {
   "cell_type": "code",
   "execution_count": null,
   "id": "662965cc-0d51-41db-b249-ab69562990d2",
   "metadata": {},
   "outputs": [],
   "source": [
    "# If you don't specify a start/stop, it assumes:\n",
    "print(word[:2])\n",
    "print(word[2:])\n",
    "print(word[:])"
   ]
  },
  {
   "cell_type": "markdown",
   "id": "acbc3206-919e-4632-b7d9-2a955c3864b6",
   "metadata": {},
   "source": [
    "## Lists\n",
    "Used to store multiple items in a single variable. The items are ordered and can be changed.\n"
   ]
  },
  {
   "cell_type": "code",
   "execution_count": null,
   "id": "e5c2fd86-8e57-47e9-a064-90fe61fef05a",
   "metadata": {},
   "outputs": [],
   "source": [
    "squares = [1, 4, 9, 16, 25]\n",
    "squares[0:2]"
   ]
  },
  {
   "cell_type": "code",
   "execution_count": null,
   "id": "16800482-0484-410f-ab40-7e09c13acc70",
   "metadata": {},
   "outputs": [],
   "source": [
    "# Lists can be modified\n",
    "squares.append(35)\n",
    "print(squares)\n",
    "print('uh oh! not all squares')"
   ]
  },
  {
   "cell_type": "code",
   "execution_count": null,
   "id": "e6badbf6-95c9-461b-9eed-6dfe9dd2453f",
   "metadata": {},
   "outputs": [],
   "source": [
    "squares[-1] = 6 ** 2\n",
    "print(squares)\n",
    "print(\"These are all squares now\")"
   ]
  },
  {
   "cell_type": "code",
   "execution_count": null,
   "id": "30ae114e-8487-4af9-8c52-fe2a8497ae27",
   "metadata": {},
   "outputs": [],
   "source": [
    "del squares[0]\n",
    "print(squares)\n",
    "# `del` can also delete variables "
   ]
  },
  {
   "cell_type": "code",
   "execution_count": null,
   "id": "b43f5c31-6ecc-4f35-b38c-ad2c411441de",
   "metadata": {},
   "outputs": [],
   "source": [
    "# Assigning to a slice\n",
    "squares[0:2] = [10**2, 11**2]\n",
    "print(squares)"
   ]
  },
  {
   "cell_type": "code",
   "execution_count": null,
   "id": "064c3376-a16b-411d-b1b6-0f7fa465f59e",
   "metadata": {},
   "outputs": [],
   "source": [
    "# Lists can hold anything\n",
    "squares[-1] = \"square\"\n",
    "print(squares)"
   ]
  },
  {
   "cell_type": "code",
   "execution_count": null,
   "id": "f94bb205-4cce-4b68-b318-49aa3c678315",
   "metadata": {},
   "outputs": [],
   "source": [
    "# Even other lists\n",
    "squares[0:2] = [[\"a\", \"b\"], [1, 2]]\n",
    "print(squares)"
   ]
  },
  {
   "cell_type": "markdown",
   "id": "4feb7404-7ba6-4c92-9ae9-d1c20a730c92",
   "metadata": {},
   "source": [
    "## Tuples\n",
    "Like lists, tuples are ordered, but their values are immutable: "
   ]
  },
  {
   "cell_type": "code",
   "execution_count": null,
   "id": "0031916b-a4d9-4d7c-97cf-7ad6ea417d3f",
   "metadata": {},
   "outputs": [],
   "source": [
    "numbers = (1, 2, 3)\n",
    "print(numbers)"
   ]
  },
  {
   "cell_type": "code",
   "execution_count": null,
   "id": "99eaeee4-422e-4df8-91f9-1858ab69c770",
   "metadata": {},
   "outputs": [],
   "source": [
    "# Parantheses are optional\n",
    "other_numbers = 1, 2, 3\n",
    "print(other_numbers)"
   ]
  },
  {
   "cell_type": "code",
   "execution_count": null,
   "id": "384955eb-66a5-4318-87be-428aeb29ade0",
   "metadata": {},
   "outputs": [],
   "source": [
    "numbers == other_numbers # boolean check\n"
   ]
  },
  {
   "cell_type": "code",
   "execution_count": null,
   "id": "d580199f-0cc7-4c68-bb26-26f1b8636dd8",
   "metadata": {},
   "outputs": [],
   "source": [
    "# A tuple with only one element requires a comma\n",
    "not_a_tuple = (1)\n",
    "a_tuple = (1,)\n",
    "print(not_a_tuple, a_tuple)"
   ]
  },
  {
   "cell_type": "code",
   "execution_count": null,
   "id": "c8826630-abcf-4bac-aa6e-997286986d14",
   "metadata": {},
   "outputs": [],
   "source": [
    "# Tuples can be used for multiple assignment\n",
    "a, b = 1, 2\n",
    "print(a, b)"
   ]
  },
  {
   "cell_type": "code",
   "execution_count": null,
   "id": "a0fe7b31-9731-480d-9de8-542283506868",
   "metadata": {},
   "outputs": [],
   "source": [
    "# The right-hand is evaluated first\n",
    "a, b = b, a\n",
    "print(a, b)"
   ]
  },
  {
   "cell_type": "code",
   "execution_count": null,
   "id": "6844690c-6fb6-4a26-82d3-6e7352b54773",
   "metadata": {},
   "outputs": [],
   "source": [
    "# what does it mean to be immutable?\n",
    "\n",
    "try:\n",
    "    other_numbers[0] = 12 # we could do this with lists!\n",
    "except TypeError as err:\n",
    "    print(err)\n",
    "    \n",
    "print(other_numbers) # remains unchanged"
   ]
  },
  {
   "cell_type": "markdown",
   "id": "eca59df0-8295-4608-89ca-eff0901e6230",
   "metadata": {},
   "source": [
    "## Sets \n",
    "A set is a collection of non-repeated items, stored as unordered"
   ]
  },
  {
   "cell_type": "code",
   "execution_count": null,
   "id": "83c76d0a-b087-4a06-a6f7-bd5a756c3d7d",
   "metadata": {},
   "outputs": [],
   "source": [
    "# Sets\n",
    "letters = {\"a\", \"b\", \"c\", \"b\"} # b is overlapping\n",
    "print(letters)\n",
    "print('a' in letters)"
   ]
  },
  {
   "cell_type": "code",
   "execution_count": null,
   "id": "88774b3f-9390-4767-817b-e729fadfbe82",
   "metadata": {},
   "outputs": [],
   "source": [
    "# Sets can be created from any sequence an\n",
    "letters1 = set(\"Python\")\n",
    "letters2 = set(\"tutorial\")\n",
    "print(letters1, letters2)"
   ]
  },
  {
   "cell_type": "code",
   "execution_count": null,
   "id": "e90f4756-f1c5-4c06-a77d-1cb31e3ea087",
   "metadata": {},
   "outputs": [],
   "source": [
    "print(letters1 & letters2) # intersection of two sets\n"
   ]
  },
  {
   "cell_type": "code",
   "execution_count": null,
   "id": "0abc9ac4-d416-414d-8f92-d6f0b8ef4af9",
   "metadata": {},
   "outputs": [],
   "source": [
    "print(letters1 | letters2) # union of two sets\n"
   ]
  },
  {
   "cell_type": "code",
   "execution_count": null,
   "id": "24b6aa0f-311c-4a87-a0b0-1727b132537e",
   "metadata": {},
   "outputs": [],
   "source": [
    "print(letters1 ^ letters2) # unique items in each set ( symmetric difference)\n"
   ]
  },
  {
   "cell_type": "code",
   "execution_count": null,
   "id": "cb823bbc-8d66-4905-8ca3-d1a04c869c1d",
   "metadata": {},
   "outputs": [],
   "source": [
    "print(sorted(letters1))\n"
   ]
  },
  {
   "cell_type": "markdown",
   "id": "84a494ac-b8c7-4af0-b81c-0f9b3b924e6c",
   "metadata": {},
   "source": [
    "## Dictionaries\n",
    "A collection key-value pairings, stored as unordered"
   ]
  },
  {
   "cell_type": "code",
   "execution_count": null,
   "id": "2e2f782e-3b51-4573-99f7-aa086367551b",
   "metadata": {},
   "outputs": [],
   "source": [
    "colors = {\"apple\": \"red\", \"watermelon\": \"green\"}\n",
    "print(colors)"
   ]
  },
  {
   "cell_type": "code",
   "execution_count": null,
   "id": "99f2d354-28fb-4309-b5e6-1c08bfa5c9ae",
   "metadata": {},
   "outputs": [],
   "source": [
    "print(colors[\"apple\"])\n",
    "print(\"pear\" not in colors)\n",
    "print(\"red\" not in colors) # it is stored as a value, but not as a key"
   ]
  },
  {
   "cell_type": "code",
   "execution_count": null,
   "id": "938edd01-f625-4af9-a1b6-f12889ccb056",
   "metadata": {},
   "outputs": [],
   "source": [
    "colors[\"apple\"] = \"yellow\"\n",
    "colors[\"strawberry\"] = \"red\" # can reassign values in dictionaries!"
   ]
  },
  {
   "cell_type": "code",
   "execution_count": null,
   "id": "c9f9b8e0-1e73-49e2-b91f-65eb8f4f6574",
   "metadata": {},
   "outputs": [],
   "source": [
    "# iterate through key-value pairs\n",
    "for key, value in colors.items():\n",
    "    print(key, value)"
   ]
  },
  {
   "cell_type": "markdown",
   "id": "838e5943-fe17-4009-8106-4d25ec134125",
   "metadata": {},
   "source": [
    "## Control flow statements:"
   ]
  },
  {
   "cell_type": "code",
   "execution_count": null,
   "id": "d383df8c-5d53-4dcf-834f-e713bfd6b2b4",
   "metadata": {},
   "outputs": [],
   "source": [
    "x = 0\n",
    "if x < 0:\n",
    "    print(\"Negative\")\n",
    "elif x == 0:\n",
    "    print(\"Zero\")\n",
    "elif x == 1:\n",
    "    print(\"One\")\n",
    "else:\n",
    "    print(\"More than one\")"
   ]
  },
  {
   "cell_type": "code",
   "execution_count": null,
   "id": "5ed3b04c-8eb8-4065-a0f3-1a8fc9620631",
   "metadata": {},
   "outputs": [],
   "source": [
    "# Indentation matters in Python!\n",
    "x = -1\n",
    "if x < 0:\n",
    "    print(\"Negative\")\n",
    "    print(\"In other words, less than zero\")"
   ]
  },
  {
   "cell_type": "code",
   "execution_count": null,
   "id": "a1acf9ed-7fbf-4b75-ab18-fe12affd1387",
   "metadata": {},
   "outputs": [],
   "source": [
    "x = 1\n",
    "if x < 0:\n",
    "    print(\"Negative\") \n",
    "print(\"In other words, less than zero\") # x is now 1, though, which is not less than zero"
   ]
  },
  {
   "cell_type": "code",
   "execution_count": null,
   "id": "8399ec54-f43e-4eb4-b69f-415f12a0fbcd",
   "metadata": {},
   "outputs": [],
   "source": [
    "# for-loop\n",
    "word = \"Python\"\n",
    "for letter in word:\n",
    "    print(letter) # print assumes adding a new line"
   ]
  },
  {
   "cell_type": "code",
   "execution_count": null,
   "id": "06fe9ddc-4345-49dc-b93e-cc50bb3b4537",
   "metadata": {},
   "outputs": [],
   "source": [
    "# Use `range` to count in `for` loops\n",
    "for i in range(3):\n",
    "    print(i)"
   ]
  },
  {
   "cell_type": "code",
   "execution_count": null,
   "id": "0964d3dd-fac3-4647-ad2b-d5f922f17e81",
   "metadata": {},
   "outputs": [],
   "source": [
    "for n in range(2, 10):\n",
    "    for x in range(2, n):\n",
    "        if n % x == 0:\n",
    "            print(n, 'equals', x, '*', n//x)\n",
    "            break\n",
    "    else:\n",
    "        # Loop ended without `break`\n",
    "        print(n, 'is a prime number')"
   ]
  },
  {
   "cell_type": "code",
   "execution_count": null,
   "id": "7abaf3a5-3817-490d-8984-3c19c9860ca1",
   "metadata": {},
   "outputs": [],
   "source": [
    "a, b = 0, 1\n",
    "while a < 10:\n",
    "    print(a)\n",
    "    a, b = b, a+b"
   ]
  },
  {
   "cell_type": "markdown",
   "id": "2ef89da6-39bd-45d4-9fc1-53c0c86f8d45",
   "metadata": {},
   "source": [
    "## Functions\n",
    "Functions are blocks of code that only run when they are called. They can take in variables as parameters and return variables as output."
   ]
  },
  {
   "cell_type": "code",
   "execution_count": null,
   "id": "44f6b05b-9757-4c4d-8ae2-8e4357ad61da",
   "metadata": {},
   "outputs": [],
   "source": [
    "def fib(n): # n is a parameter\n",
    "    \"\"\"Print the Fibonacci series up to n.\"\"\" # this is a doc-string, which provides information about the function\n",
    "    a, b = 0, 1\n",
    "    while a < n:\n",
    "        print(a)\n",
    "        a, b = b, a+b"
   ]
  },
  {
   "cell_type": "code",
   "execution_count": null,
   "id": "6dab663d-b83d-4c90-9af5-ac8f6431675f",
   "metadata": {},
   "outputs": [],
   "source": [
    "fib(10)"
   ]
  },
  {
   "cell_type": "code",
   "execution_count": null,
   "id": "9a1bfd05-9031-450d-8bbb-0ef2ca06c312",
   "metadata": {},
   "outputs": [],
   "source": [
    "result = fib(10)\n",
    "print(f'our result is: {result}')"
   ]
  },
  {
   "cell_type": "code",
   "execution_count": null,
   "id": "f6cf748b-671b-4fc7-8a09-52d7cdc43e2a",
   "metadata": {},
   "outputs": [],
   "source": [
    "# why is is none? because our function didn't return anything:\n",
    "\n",
    "def fib_with_result(n): \n",
    "    \"\"\"Print the Fibonacci series up to n.\"\"\" # this is a doc-string, which provides information about the function\n",
    "    a, b = 0, 1\n",
    "    result=[] # create a list to store the sequence\n",
    "    while a < n:\n",
    "        result.append(a)\n",
    "        a, b = b, a+b\n",
    "    return result"
   ]
  },
  {
   "cell_type": "code",
   "execution_count": null,
   "id": "b6158125-7fc3-4a1a-b7ff-ec678a3f80c0",
   "metadata": {},
   "outputs": [],
   "source": [
    "useful_result = fib_with_result(10)\n",
    "print(useful_result)"
   ]
  },
  {
   "cell_type": "code",
   "execution_count": null,
   "id": "b7cbf0cf-9d4b-495e-87de-15c0faa66892",
   "metadata": {},
   "outputs": [],
   "source": [
    "def fib_with_configurable_start(n, start=0):\n",
    "    \"\"\"Print the Fibonacci series up to n, starting from start.\"\"\"\n",
    "    a, b = 0, 1\n",
    "    result=[]\n",
    "    if start == 1:\n",
    "        a = 1\n",
    "    while a < n:\n",
    "        result.append(a)\n",
    "        a, b = b, a+b\n",
    "    return result"
   ]
  },
  {
   "cell_type": "code",
   "execution_count": null,
   "id": "abeaeddb-a37b-463f-b695-fb8bf3a81935",
   "metadata": {},
   "outputs": [],
   "source": [
    "res = fib_with_configurable_start(10, start=0)\n",
    "print(res)"
   ]
  },
  {
   "cell_type": "markdown",
   "id": "66e35575-0485-44c7-ab88-b95efbbbc61c",
   "metadata": {},
   "source": [
    "## Lambda expressions\n",
    "Short functions can be replaced with simplified expresions\n"
   ]
  },
  {
   "cell_type": "code",
   "execution_count": null,
   "id": "68604f88-4fdd-4660-a606-5e2d65cb45ae",
   "metadata": {},
   "outputs": [],
   "source": [
    "# A short function can be replaced with a lambda expression\n",
    "def f_short(x):\n",
    "    return x + 1\n",
    "print(f_short(2))"
   ]
  },
  {
   "cell_type": "code",
   "execution_count": null,
   "id": "97e5b3aa-66fc-478d-bff6-b08cd63eb801",
   "metadata": {},
   "outputs": [],
   "source": [
    "f_shorter = lambda x: x + 1\n",
    "f_short(2) == f_shorter(2)"
   ]
  },
  {
   "cell_type": "markdown",
   "id": "f29cf0ef-0a50-4eef-8b63-72f2545359a3",
   "metadata": {},
   "source": [
    "## Comprehensions\n",
    "another shorthand trick for data structures"
   ]
  },
  {
   "cell_type": "code",
   "execution_count": null,
   "id": "8b5a585f-c042-4171-ac94-0f4dfbcb614a",
   "metadata": {},
   "outputs": [],
   "source": [
    "# long-hand list creation\n",
    "squares = []\n",
    "for x in range(10):\n",
    "    squares.append(x**2)"
   ]
  },
  {
   "cell_type": "code",
   "execution_count": null,
   "id": "ab432bd4-96d4-4427-9099-ec11405361d3",
   "metadata": {},
   "outputs": [],
   "source": [
    "# short-cut for simple lists with list comprehension\n",
    "squares_simpler = [x**2 for x in range(10)]\n"
   ]
  },
  {
   "cell_type": "code",
   "execution_count": null,
   "id": "0d91cd5a-5dc2-4185-8a3b-24874b4885c8",
   "metadata": {},
   "outputs": [],
   "source": [
    "squares == squares_simpler"
   ]
  },
  {
   "cell_type": "code",
   "execution_count": null,
   "id": "6e11a34d-e250-4a8c-9ec3-0c52f856ed5c",
   "metadata": {},
   "outputs": [],
   "source": [
    "# Sets\n",
    "{x for x in 'abracadabra' if x not in 'abc'}"
   ]
  },
  {
   "cell_type": "code",
   "execution_count": null,
   "id": "f53ba3cf-2495-4958-917c-9a4d8e8a7ba1",
   "metadata": {},
   "outputs": [],
   "source": [
    "# Dictionaries\n",
    "{x: x**2 for x in (2, 4, 6)}"
   ]
  },
  {
   "cell_type": "code",
   "execution_count": null,
   "id": "670189ed-c105-4773-a65e-cae2a40d9986",
   "metadata": {},
   "outputs": [],
   "source": [
    "# Generator expressions\n",
    "sum(x*y for x in range(4) for y in range(x))"
   ]
  },
  {
   "cell_type": "markdown",
   "id": "77f3d799-e5eb-4d91-a0d6-518e113cb1f1",
   "metadata": {},
   "source": [
    "## Exceptions\n",
    "Allow us to catch errors without our code quitting!\n",
    "\n"
   ]
  },
  {
   "cell_type": "code",
   "execution_count": null,
   "id": "4d5676ef-a0fb-44c4-ab5c-dc2a02997de8",
   "metadata": {},
   "outputs": [],
   "source": [
    "def divide(x, y):\n",
    "    try:\n",
    "        result = x / y\n",
    "    except ZeroDivisionError:\n",
    "        print(\"division by zero!\")\n",
    "    else:\n",
    "        print(\"result is\", result)\n",
    "    finally:\n",
    "        print(\"executing finally clause\")"
   ]
  },
  {
   "cell_type": "code",
   "execution_count": null,
   "id": "bf3504c9-de43-48a3-9d02-d101ccb6a563",
   "metadata": {},
   "outputs": [],
   "source": [
    "divide(1,2)"
   ]
  },
  {
   "cell_type": "code",
   "execution_count": null,
   "id": "8b42feb8-9b9b-4b7f-8b5e-0cc9f9e38459",
   "metadata": {},
   "outputs": [],
   "source": [
    "divide(2,0)"
   ]
  },
  {
   "cell_type": "markdown",
   "id": "c7b7da94-c649-4a93-bbbf-2150343b54c9",
   "metadata": {},
   "source": [
    "## Namespace and scopes\n",
    "Each name is part of a namespace      \n",
    "Namespaces are created automatically for modules, functions, etc.    \n",
    "\n",
    "Code being executed has an associated scope        \n",
    "The scope determines what namespace is used when looking for names     "
   ]
  },
  {
   "cell_type": "code",
   "execution_count": null,
   "id": "6832891f-9713-4ef9-b43f-673b0989392e",
   "metadata": {},
   "outputs": [],
   "source": [
    "print(dir())"
   ]
  },
  {
   "cell_type": "code",
   "execution_count": null,
   "id": "a2097cf6-dc9e-427a-84c7-6af71ee40117",
   "metadata": {},
   "outputs": [],
   "source": [
    "# There are 3 scopes:\n",
    "# `local` means function(-like) level\n",
    "# `nonlocal` means non-local and non-global\n",
    "# `global` means module level\n",
    "# The body of functions is executed during calls, not definition\n",
    "def scope_test():\n",
    "    \n",
    "    def access_enclosing_scopes():\n",
    "        print(\"Accessing enclosing scopes:\", x)\n",
    "    \n",
    "    def local_scope_assignment():\n",
    "        # Same name as the variable in `scope_test`\n",
    "        x = 1\n",
    "\n",
    "    def nonlocal_scope_assignment():\n",
    "        nonlocal x\n",
    "        x = 2\n",
    "\n",
    "    def global_scope_assignment():\n",
    "        # No such global variable defined yet\n",
    "        global x\n",
    "        x = 3\n",
    "\n",
    "    x = 0\n",
    "    access_enclosing_scopes()\n",
    "    local_scope_assignment()\n",
    "    print(\"Value after local assignment:\", x)\n",
    "    nonlocal_scope_assignment()\n",
    "    print(\"Value after nonlocal assignment:\", x)\n",
    "    global_scope_assignment()\n",
    "    print(\"Value after global assignment:\", x)\n",
    "\n",
    "scope_test()\n",
    "print(\"In global scope:\", x)"
   ]
  },
  {
   "cell_type": "markdown",
   "id": "50082263-e148-44fe-b14f-658b13beec7d",
   "metadata": {},
   "source": [
    "## Objects and classes\n",
    "Everything in python is an object, which has a fixed type at creation. Its type determines what you can do with it.\n"
   ]
  },
  {
   "cell_type": "code",
   "execution_count": null,
   "id": "b5c7cec8-9592-47ce-a31e-0a20d52e6dd3",
   "metadata": {},
   "outputs": [],
   "source": [
    "print(i)\n",
    "type(i)\n",
    "\n"
   ]
  },
  {
   "cell_type": "code",
   "execution_count": null,
   "id": "55d33611-7c21-4e2e-b59a-2ef4680f5b5d",
   "metadata": {},
   "outputs": [],
   "source": [
    "type(scope_test)\n"
   ]
  },
  {
   "cell_type": "code",
   "execution_count": null,
   "id": "225e5d8d-5baa-47b0-a0e2-6a0b98108d56",
   "metadata": {},
   "outputs": [],
   "source": [
    "# Each object has an identity, which is fixed at creation\n",
    "id(i)"
   ]
  },
  {
   "cell_type": "code",
   "execution_count": null,
   "id": "8da44df7-9a65-42d9-85bd-edf0013fe12b",
   "metadata": {},
   "outputs": [],
   "source": [
    "id(scope_test)\n"
   ]
  },
  {
   "cell_type": "code",
   "execution_count": null,
   "id": "cd305c74-5648-4ace-a12b-f15328b31b65",
   "metadata": {},
   "outputs": [],
   "source": [
    "# The `is` operator compares identities\n",
    "[1] is [1] "
   ]
  },
  {
   "cell_type": "code",
   "execution_count": null,
   "id": "4612ea03-4e88-4798-bedd-51edbe936747",
   "metadata": {},
   "outputs": [],
   "source": [
    "# The `==` operator compares value\n",
    "[1] == [1]"
   ]
  },
  {
   "cell_type": "code",
   "execution_count": null,
   "id": "de2ce24d-3627-4701-a0e0-430a3c81b1c1",
   "metadata": {},
   "outputs": [],
   "source": [
    "# An object's value may change but its identity will not\n",
    "list1 = [0]\n",
    "print(list1)\n",
    "print(id(list1))\n",
    "list1[0] = 1\n",
    "print(list1)\n",
    "print(id(list1))\n"
   ]
  },
  {
   "cell_type": "code",
   "execution_count": null,
   "id": "132c2587-b053-47a5-8cac-18d7703f718b",
   "metadata": {},
   "outputs": [],
   "source": [
    "# Some objects do not support change operations\n",
    "tuple1 = (list1,)\n",
    "print(tuple1)\n",
    "tuple1[0] = 1"
   ]
  },
  {
   "cell_type": "code",
   "execution_count": null,
   "id": "85888074-a4c8-4a35-8b22-ba31e91a94b7",
   "metadata": {},
   "outputs": [],
   "source": [
    "# However, their value can still change\n",
    "list1[0] = 100\n",
    "print(tuple1)"
   ]
  },
  {
   "cell_type": "code",
   "execution_count": null,
   "id": "cfa7998f-6ada-4353-bef2-fa09f6d05a11",
   "metadata": {},
   "outputs": [],
   "source": [
    "# So far, we have been creating objects with pre-defined types (e.g., `list`)\n",
    "# Classes define new types of objects\n",
    "class Complex:\n",
    "    def __init__(self, real_part=0, imag_part=0):\n",
    "        self.r = real_part\n",
    "        self.i = imag_part"
   ]
  },
  {
   "cell_type": "code",
   "execution_count": null,
   "id": "fe1bbf33-c15a-4db4-9576-130209976e4e",
   "metadata": {},
   "outputs": [],
   "source": [
    "# `self` is passed automatically by Python\n",
    "# Here, `self` is bound to the same object as `x`\n",
    "x = Complex()"
   ]
  },
  {
   "cell_type": "code",
   "execution_count": null,
   "id": "7c1b0be4-5370-49df-9b7f-f8872577d9f3",
   "metadata": {},
   "outputs": [],
   "source": [
    "print(x.r, x.i)"
   ]
  },
  {
   "cell_type": "code",
   "execution_count": null,
   "id": "9422e786-4828-489f-a943-ed4b9a04a9de",
   "metadata": {},
   "outputs": [],
   "source": [
    "y = Complex(3.0, -4.5)\n",
    "print(y.r, y.i)\n"
   ]
  },
  {
   "cell_type": "code",
   "execution_count": null,
   "id": "b6e15f2c-1deb-4085-a9db-bc5684ac3cbc",
   "metadata": {},
   "outputs": [],
   "source": [
    "# Class variables and instance variables\n",
    "class Dog:\n",
    "\n",
    "    # Class variable\n",
    "    number_of_legs = 4\n",
    "\n",
    "    def __init__(self, name):\n",
    "        # Instance variable\n",
    "        self.name = name\n",
    "        self.tricks = []\n",
    "\n",
    "    def add_trick(self, trick):\n",
    "        # Class namespace used to resolve name\n",
    "        self.tricks.append(trick)"
   ]
  },
  {
   "cell_type": "code",
   "execution_count": null,
   "id": "6888cf90-2f38-4810-875a-05fbccdf7630",
   "metadata": {},
   "outputs": [],
   "source": [
    "fido = Dog(\"Fido\")\n",
    "print(fido)\n",
    "print(fido.number_of_legs)\n",
    "fido.add_trick(\"roll over\")\n",
    "print(fido.tricks)\n"
   ]
  },
  {
   "cell_type": "code",
   "execution_count": null,
   "id": "689fad18-c761-4f74-9986-996a9f137f14",
   "metadata": {},
   "outputs": [],
   "source": [
    "buddy = Dog(\"Buddy\")\n",
    "buddy.add_trick(\"play dead\")\n",
    "print(buddy.tricks)\n",
    "buddy.add_trick('sit')\n",
    "print(buddy.tricks)"
   ]
  },
  {
   "cell_type": "markdown",
   "id": "4915fcb9-4495-4233-92cb-c1b826fcda70",
   "metadata": {},
   "source": [
    "## Packages\n",
    "we can bring in source code from other locations for use in our current program"
   ]
  },
  {
   "cell_type": "code",
   "execution_count": null,
   "id": "1081586e-1979-4784-b913-347a9f64fa6a",
   "metadata": {},
   "outputs": [],
   "source": [
    "import importlib.util\n",
    "importlib.util.MAGIC_NUMBER.hex()\n"
   ]
  },
  {
   "cell_type": "code",
   "execution_count": null,
   "id": "414ade8a-d061-406f-b314-cee2518f6f0c",
   "metadata": {},
   "outputs": [],
   "source": []
  }
 ],
 "metadata": {
  "kernelspec": {
   "display_name": "Python 3 (ipykernel)",
   "language": "python",
   "name": "python3"
  },
  "language_info": {
   "codemirror_mode": {
    "name": "ipython",
    "version": 3
   },
   "file_extension": ".py",
   "mimetype": "text/x-python",
   "name": "python",
   "nbconvert_exporter": "python",
   "pygments_lexer": "ipython3",
   "version": "3.7.9"
  },
  "toc-autonumbering": false
 },
 "nbformat": 4,
 "nbformat_minor": 5
}
