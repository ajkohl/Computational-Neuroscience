{
 "cells": [
  {
   "cell_type": "markdown",
   "metadata": {},
   "source": [
    "# Welcome to CMHN Spring 2023!\n",
    "\n",
    "Congratulations! If you are viewing this Jupyter notebook, you have already acquired many of the skills necessary to excel in this course and you are well on your way to learning cutting-edge methods for cognitive neuroscience.\n",
    "\n",
    "In this course we will use a variety of tools, many of which will likely be new to you. Don't worry if you are having trouble wrapping your head around them now: by the end of this course you will be an expert in not only these useful skills but also the exciting analyses that use them. \n",
    "\n",
    "## Goal of this script\n",
    "    Familiarize yourself with the tools that will be used in the course exercise notebooks\n",
    "\n",
    "\n",
    "## Table of Contents\n",
    "[0. Survey](#survey)\n",
    "\n",
    "[1. GitHub](#git)  \n",
    "\n",
    "[2. Jupyter](#jupyter)  \n",
    "\n",
    "[3. Python](#python)  \n",
    "\n",
    "[4. Brainiak](#brainiak)  \n",
    "\n",
    "[5. Getting started](#starting)  \n",
    "\n",
    "Exercises\n",
    ">[Exercise 1](#ex1)  \n",
    ">[Exercise 2](#ex2)  "
   ]
  },
  {
   "cell_type": "markdown",
   "metadata": {},
   "source": [
    "## 0. Survey <a id=\"survey\"></a>"
   ]
  },
  {
   "cell_type": "markdown",
   "metadata": {},
   "source": [
    "Before we jump into the material we would like to survey you to get to know you better and to find out your familarity with the content we will be covering. Only your instructors will be able to see what you say."
   ]
  },
  {
   "cell_type": "markdown",
   "metadata": {},
   "source": [
    "Please fill out the survey by editing the [markdown](https://en.wikipedia.org/wiki/Markdown) text after where it says A:"
   ]
  },
  {
   "cell_type": "markdown",
   "metadata": {},
   "source": [
    "**Q1**: Have you ever used Jupyter Notebooks or Jupyter Lab before? (Not being able to answer this question is a 'no')\n",
    "\n",
    "A: yes"
   ]
  },
  {
   "cell_type": "markdown",
   "metadata": {},
   "source": [
    "**Q2**: List the programming languages you feel comfortable with:\n",
    "\n",
    "A: python, C, html/css/javascript"
   ]
  },
  {
   "cell_type": "markdown",
   "metadata": {},
   "source": [
    "**Q3**: Describe your experience (if any!) with git:  \n",
    "  \n",
    "A: CS50 projects and problem sets"
   ]
  },
  {
   "cell_type": "markdown",
   "metadata": {},
   "source": [
    "**Q4**: Describe your knowledge of and experience with fMRI, including relevant coursework, data collection, data analysis, etc. If you have done analyses, what software did you use (AFNI, FSL, SPM, BrainVoyager, etc.)?\n",
    "\n",
    "A: none, only ever worked with structural mri"
   ]
  },
  {
   "cell_type": "markdown",
   "metadata": {},
   "source": [
    "**Q5**: Bold the following methods you have heard of before, italicize the methods you have used before (don't know how to do this? Google is your friend!):\n",
    "\n",
    "A:  \n",
    "<b>- Multi-Voxel Pattern Analysis</b>\n",
    "- Representational Similarity Analysis\n",
    "- Principal Components Analysis\n",
    "- Full-Correlation Matrix Analysis  \n",
    "- Intersubject Connectivity Analysis \n",
    "<b>- Shared Response Modeling</b>"
   ]
  },
  {
   "cell_type": "markdown",
   "metadata": {},
   "source": [
    "**Q6**: Describe your experience with high-performance computing. Did you already have an account on Grace prior to the course? Have you used other clusters on campus or in the cloud?\n",
    "\n",
    "A: no"
   ]
  },
  {
   "cell_type": "markdown",
   "metadata": {},
   "source": [
    "**Q7**: Help us understand why you are taking this course. Create a new cell below this prompt containing three goals of what you hope to learn/accomplish this semester (hint: use the + icon, next to the save icon in the toolbar, to add a new cell):"
   ]
  },
  {
   "cell_type": "markdown",
   "metadata": {},
   "source": [
    "I have a background in structural neuroimaging analysis with machine learning in high school and it got me interested in further pursuing quantitative neuroimaging. Learning fMRI is what I figured would be a logical first step my first year of college."
   ]
  },
  {
   "cell_type": "markdown",
   "metadata": {},
   "source": [
    "## 1. GitHub<a id=\"git\"></a>\n",
    "\n",
    "To be looking at this notebook means you must have forayed into GitHub. It is a version control system that allows you to manage code when working with others and sharing code broadly.\n",
    "\n",
    "GitHub can be scary, especially given that a lot of the language used to explain it and its goals can be unfamilar. Googling 'github for beginners' usually assumes a level of knowledge that many don't have. A good step zero for understanding git is found [here](https://readwrite.com/2013/09/30/understanding-github-a-journey-for-beginners-part-1/) (yes, this is from 2013, but it is still relevant and a great first step!). Another useful way to get familiar with the basics of GitHub is by doing this quick [tutorial](https://guides.github.com/activities/hello-world/).\n",
    "\n",
    "**Some additional things you should be aware of:**\n",
    "\n",
    "*It is hard to break git:* because git is a version control system, most of the time you will have backups of everything you do. It is actually very hard to delete what you have done. That leads to...\n",
    "\n",
    "*It is easy to tangle up a git:* if you are collaborating with others, or you have two systems with a single git repository (a.k.a. 'repo'), to avoid headaches later make sure that a repo is up to date before you make edits.\n",
    "\n",
    "*Commit often:* This is a cardinal rule-- do it to avoid the above. Note that this is in addition to locally checkpointing your code within Jupyter, which you should do even more often (save button or keyboard shortcut).\n",
    "\n",
    "*Don't put data on there!* This is very important. Firstly, fMRI data are sensitive and GitHub is not secure. Moreover, you shouldn't store more than 100Mb in a repo (less than 1Gb is allowed, but it makes things really slow).\n"
   ]
  },
  {
   "cell_type": "markdown",
   "metadata": {},
   "source": [
    "## 2. Jupyter<a id=\"jupyter\"></a>\n",
    "\n",
    "Jupyter Lab is a convenient GUI for running simple code and visualizing results. Jupyter is not an ideal place to learn a new language like Python since it won't provide a lot of the helpful nudges that coding environments like [PyCharm](https://www.jetbrains.com/pycharm/) or [Spyder](https://www.coursera.org/lecture/python-programming-introduction/introduction-to-the-spyder-ide-ywcuv) do, but it is a perfect tool to debug analyses and distribute results once you have some Python expertise. \n",
    "\n",
    "We will mainly use the notebook feature of Jupyter in this course. A great demo for Jupyter notebooks can be found [here](https://www.youtube.com/watch?v=HW29067qVWk). Later in the course, we will do a bit of scripting and use the terminal as well. A walk-through of the features of Jupyter Lab as an IDE for Jupyter is can be found [here](https://www.youtube.com/watch?v=A5YyoCKxEOU).  \n",
    "\n",
    "Although most of your experience with Jupyter will be using a Python kernel, you can actually use Jupyter for multiple languages, like [R](https://github.com/IRkernel/IRkernel) or [matlab](https://github.com/Calysto/matlab_kernel).\n",
    "\n",
    "**Really (really) useful shortcuts:**  \n",
    "ESC - Change from editing mode into command mode  \n",
    "\n",
    "In command mode:\n",
    "\n",
    "a - make new cell above  \n",
    "b - make new cell below  \n",
    "dd - delete cell  \n",
    "m - make a code cell into a markdown cell  \n",
    "\n",
    "While writing code:  \n",
    "[TAB] - Autocomplete code  \n",
    "[SHIFT] + [TAB] - Open the Help on a function  \n",
    "\n",
    "Jupyter Magics (magics are meta-parameters you can set in a notebook to control how the notebook works):  \n",
    "%matplotlib inline - render any plots generated in-line\n"
   ]
  },
  {
   "cell_type": "markdown",
   "metadata": {},
   "source": [
    "## 3. Python<a id=\"python\"></a>\n",
    "\n",
    "Over recent years, Python has grown tremendously in popularity, particularly for analysis of big data. It boasts a number of benefits: open source, free, and developed extensively for machine learning. There are some drawbacks which mean that you might not want to switch everything you do to Python but for advanced neuroimaging, it is popular at the moment. \n",
    "\n",
    "Learning to code in Python is moderately difficult compared to other languages: sometimes the syntax is demanding (like C but unlike MATLAB) but it has a ton of online support, solid inline help, and useful error messages (like MATLAB but unlike C).\n",
    "\n",
    "Included in this directory is a short notebook called `python_tutorial.ipynb` with a basic Python intro. Please peruse it and follow along with the exercises if you are unfamiliar with Python.\n",
    "\n",
    "Here is a much more comprehensive introduction by datacamp: https://www.datacamp.com/courses/intro-to-python-for-data-science\n",
    "\n",
    "The Yale Center for Research Computing (YCRC), who supports our computing needs in this class, also runs workshops and tutorials on Python and advanced computing. They put their tutorials online: https://research.computing.yale.edu/training/ycrc-bootcamps/scripting-python\n",
    "\n",
    "When learning a language you should try learn the conventions at the same time. Conventions are useful to make your code more readable, thus understandable and reproducible. [PEP8](https://peps.python.org/pep-0008/) is a standard convention system in Python.\n",
    "\n",
    "This notebook uses the following additional packages for Python: \n",
    "- <a href=\"http://www.numpy.org/\">numpy</a>: for scientific computing\n",
    "- <a href=\"https://matplotlib.org/\">matplotlib</a>: for plotting\n",
    "\n",
    "You should read more about these packages and their available functions and capabilities. "
   ]
  },
  {
   "cell_type": "markdown",
   "metadata": {},
   "source": [
    "## 4. BrainIAK<a id=\"jupyter\"></a>\n",
    "\n",
    "The Brain Imaging Analysis Kit ([BrainIAK](http://brainiak.org/)) is an open source toolbox coming out of a collaboration between computer scientists and neuroscientists. It uses recent advances in machine learning and high-performance parallel computing to bring analyses that might have previously taken months down to seconds. BrainIAK contains a number of advanced tools that cannot be found anywhere else. We will cover these tools extensively so that by the end of the course you will be conducting some of the most sophisticated fMRI analyses currently possible.\n",
    "\n",
    "A good introduction to BrainIAK comes from a recent Nature Neuroscience review:\n",
    "\n",
    "Cohen, J.D., Daw, N., Engelhardt, B., Hasson, U., Li, K., Niv, Y., Norman, K.A., Pillow, J., Ramadge, P.J., Turk-Browne, N.B. and Willke, T.L., (2017). [Computational approaches to fMRI analysis](https://ntblab.yale.edu/wp-content/uploads/2015/01/Cohen_NN_2017.pdf). *Nature Neuroscience, 20(3)*, 304-313."
   ]
  },
  {
   "cell_type": "markdown",
   "metadata": {},
   "source": [
    "## 5. Getting started<a id=\"starting\"></a>\n",
    "\n",
    "Below we are going to get started with some code using Python and BrainIAK.\n",
    "\n",
    "Up until now all of the cells (sections in jupyter notebook) have been markdown, meaning that they are treated as text. Below we have cells that are treated as (Python) code.\n",
    "\n",
    "The first thing we do is import \"modules\" that we are going to use. When you first start up a Python session, there are very few tools available for you to use (arithmetic and data manipulation). To open up the world of things you can do with Python, we import modules. "
   ]
  },
  {
   "cell_type": "code",
   "execution_count": 1,
   "metadata": {},
   "outputs": [],
   "source": [
    "# suppress warnings\n",
    "import warnings\n",
    "import sys \n",
    "if not sys.warnoptions:\n",
    "    warnings.simplefilter(\"ignore\")\n",
    "\n",
    "# Import a function from BrainIAK to simulate fMRI data\n",
    "import brainiak.utils.fmrisim as sim  \n",
    "\n",
    "# The plotting tool we will be using in this course\n",
    "import matplotlib.pyplot as plt\n",
    "\n",
    "# Essential module for data organization and manipulation\n",
    "import numpy as np #numpy's \"nickname\" is np\n",
    "\n",
    "# Display any generated plots inline \n",
    "%matplotlib inline \n",
    "\n",
    "# Hint: you can run this cell by pressing shift-enter"
   ]
  },
  {
   "cell_type": "markdown",
   "metadata": {},
   "source": [
    "### Brain template \n",
    "\n",
    "We are now going to use some of the tools we just loaded. First we'll call a function from `brainiak` to load a gray matter mask from the MNI152 standard brain. Here's an article talking about different anatomical standards, including MNI152: <a href=\"https://www.ncbi.nlm.nih.gov/pmc/articles/PMC4324755/\">Structural Brain Atlases: Design, Rationale, and Applications in Normal and Pathological Cohorts</a>\n"
   ]
  },
  {
   "cell_type": "code",
   "execution_count": 2,
   "metadata": {},
   "outputs": [],
   "source": [
    "# Set the size (in terms of X, Y, Z) of the volume we want to create\n",
    "dimensions = np.asarray([64, 64, 64])\n",
    "\n",
    "# Generate an anatomical image with the size above of brain voxels in gray matter\n",
    "# This outputs variables for two versions of the image, binary (mask) and probabilistic (template)\n",
    "mask, template = sim.mask_brain(dimensions, mask_self=False)"
   ]
  },
  {
   "cell_type": "markdown",
   "metadata": {},
   "source": [
    "Congrats, you just ran a command from BrainIAK!!\n",
    "\n",
    "We are now going to take a slice from that template and display it."
   ]
  },
  {
   "cell_type": "code",
   "execution_count": 3,
   "metadata": {},
   "outputs": [
    {
     "data": {
      "image/png": "[encoded data removed]",
      "text/plain": [
       "<Figure size 640x480 with 1 Axes>"
      ]
     },
     "metadata": {},
     "output_type": "display_data"
    }
   ],
   "source": [
    "# Get an axial (a.k.a. transverse or horizontal) slice halfway through the brain\n",
    "\n",
    "mid_idx = dimensions[2] // 2 #two division signs gives you an integer -> which is necessary for making the slice\n",
    "axial_slice = template[:, :, mid_idx]\n",
    "\n",
    "# imshow can visualize a 2d array \n",
    "plt.imshow(axial_slice)\n",
    "plt.title('An axial brain slice');"
   ]
  },
  {
   "cell_type": "markdown",
   "metadata": {},
   "source": [
    "### \"help()\"\n",
    "\n",
    "`help` is a very useful function in Python. If you type `help(function_name)` in Python, you will get some basic infomation about how to use this function. If you run the following line, you will see that `sim.mask_brain` take the dimension of x, y, and z, and then output a MNI152 template with the specified dimensions. Note, you can also do this by typing [SHIFT] + [TAB] while the cursor is hovering over a function name or by typing `function_name?`. "
   ]
  },
  {
   "cell_type": "code",
   "execution_count": 4,
   "metadata": {},
   "outputs": [
    {
     "name": "stdout",
     "output_type": "stream",
     "text": [
      "Help on function mask_brain in module brainiak.utils.fmrisim:\n",
      "\n",
      "mask_brain(volume, template_name=None, mask_threshold=None, mask_self=True)\n",
      "    Mask the simulated volume\n",
      "    This creates a mask specifying the approximate likelihood that a voxel is\n",
      "    part of the brain. All values are bounded to the range of 0 to 1. An\n",
      "    appropriate threshold to isolate brain voxels is >0.2. Critically,\n",
      "    the data that should be used to create a template shouldn't already be\n",
      "    masked/skull stripped. If it is then it will give in accurate estimates\n",
      "    of non-brain noise and corrupt estimations of SNR.\n",
      "    \n",
      "    Parameters\n",
      "    ----------\n",
      "    \n",
      "    volume : multidimensional array\n",
      "        Either numpy array of a volume or a tuple describing the dimensions\n",
      "        of the mask to be created\n",
      "    \n",
      "    template_name : str\n",
      "        What is the path to the template to be loaded? If empty then it\n",
      "        defaults to an MNI152 grey matter mask. This is ignored if mask_self\n",
      "        is True.\n",
      "    \n",
      "    mask_threshold : float\n",
      "        What is the threshold (0 -> 1) for including a voxel in the mask? If\n",
      "        None then the program will try and identify the last wide peak in a\n",
      "        histogram of the template (assumed to be the brain voxels) and takes\n",
      "        the minima before that peak as the threshold. Won't work when the\n",
      "        data is not bimodal.\n",
      "    \n",
      "    mask_self : bool or None\n",
      "        If set to true then it makes a mask from the volume supplied (by\n",
      "        averaging across time points and changing the range). If it is set\n",
      "        to false then it will use the template_name as an input.\n",
      "    \n",
      "    Returns\n",
      "    ----------\n",
      "    \n",
      "    mask : 3 dimensional array, binary\n",
      "        The masked brain, thresholded to distinguish brain and non-brain\n",
      "    \n",
      "    template : 3 dimensional array, float\n",
      "        A continuous (0 -> 1) volume describing the likelihood a voxel is in\n",
      "        the brain. This can be used to contrast the brain and non brain.\n",
      "\n"
     ]
    }
   ],
   "source": [
    "help(sim.mask_brain)"
   ]
  },
  {
   "cell_type": "markdown",
   "metadata": {},
   "source": [
    "### Look at the source code\n",
    "If you want to see the source code, you can use the `getsource` function from the `inspect` package. \n",
    "\n",
    "Run the following code to see the source code of `sim.mask_brain`. "
   ]
  },
  {
   "cell_type": "code",
   "execution_count": 5,
   "metadata": {},
   "outputs": [
    {
     "name": "stdout",
     "output_type": "stream",
     "text": [
      "def mask_brain(volume,\n",
      "               template_name=None,\n",
      "               mask_threshold=None,\n",
      "               mask_self=True,\n",
      "               ):\n",
      "    \"\"\" Mask the simulated volume\n",
      "    This creates a mask specifying the approximate likelihood that a voxel is\n",
      "    part of the brain. All values are bounded to the range of 0 to 1. An\n",
      "    appropriate threshold to isolate brain voxels is >0.2. Critically,\n",
      "    the data that should be used to create a template shouldn't already be\n",
      "    masked/skull stripped. If it is then it will give in accurate estimates\n",
      "    of non-brain noise and corrupt estimations of SNR.\n",
      "\n",
      "    Parameters\n",
      "    ----------\n",
      "\n",
      "    volume : multidimensional array\n",
      "        Either numpy array of a volume or a tuple describing the dimensions\n",
      "        of the mask to be created\n",
      "\n",
      "    template_name : str\n",
      "        What is the path to the template to be loaded? If empty then it\n",
      "        defaults to an MNI152 grey matter mask. This is ignored if mask_self\n",
      "        is True.\n",
      "\n",
      "    mask_threshold : float\n",
      "        What is the threshold (0 -> 1) for including a voxel in the mask? If\n",
      "        None then the program will try and identify the last wide peak in a\n",
      "        histogram of the template (assumed to be the brain voxels) and takes\n",
      "        the minima before that peak as the threshold. Won't work when the\n",
      "        data is not bimodal.\n",
      "\n",
      "    mask_self : bool or None\n",
      "        If set to true then it makes a mask from the volume supplied (by\n",
      "        averaging across time points and changing the range). If it is set\n",
      "        to false then it will use the template_name as an input.\n",
      "\n",
      "    Returns\n",
      "    ----------\n",
      "\n",
      "    mask : 3 dimensional array, binary\n",
      "        The masked brain, thresholded to distinguish brain and non-brain\n",
      "\n",
      "    template : 3 dimensional array, float\n",
      "        A continuous (0 -> 1) volume describing the likelihood a voxel is in\n",
      "        the brain. This can be used to contrast the brain and non brain.\n",
      "\n",
      "    \"\"\"\n",
      "\n",
      "    # If the volume supplied is a 1d array then output a volume of the\n",
      "    # supplied dimensions\n",
      "    if len(volume.shape) == 1:\n",
      "        volume = np.ones(volume)\n",
      "\n",
      "    # Load in the mask\n",
      "    if mask_self is True:\n",
      "        mask_raw = volume\n",
      "    elif template_name is None:\n",
      "        mfn = resource_stream(__name__, \"sim_parameters/grey_matter_mask.npy\")\n",
      "        mask_raw = np.load(mfn)\n",
      "    else:\n",
      "        mask_raw = np.load(template_name)\n",
      "\n",
      "    # Make the masks 3dremove_baseline\n",
      "    if len(mask_raw.shape) == 3:\n",
      "        mask_raw = np.array(mask_raw)\n",
      "    elif len(mask_raw.shape) == 4 and mask_raw.shape[3] == 1:\n",
      "        mask_raw = np.array(mask_raw[:, :, :, 0])\n",
      "    else:\n",
      "        mask_raw = np.mean(mask_raw, 3)\n",
      "\n",
      "    # Find the max value (so you can calulate these as proportions)\n",
      "    mask_max = mask_raw.max()\n",
      "\n",
      "    # Make sure the mask values range from 0 to 1 (make out of max of volume\n",
      "    #  so that this is invertible later)\n",
      "    mask_raw = mask_raw / mask_max\n",
      "\n",
      "    # If there is only one brain volume then make this a forth dimension\n",
      "    if len(volume.shape) == 3:\n",
      "        temp = np.zeros([volume.shape[0], volume.shape[1], volume.shape[2], 1])\n",
      "        temp[:, :, :, 0] = volume\n",
      "        volume = temp\n",
      "\n",
      "    # Reshape the mask to be the size as the brain\n",
      "    brain_dim = volume.shape\n",
      "    mask_dim = mask_raw.shape\n",
      "\n",
      "    zoom_factor = (brain_dim[0] / mask_dim[0],\n",
      "                   brain_dim[1] / mask_dim[1],\n",
      "                   brain_dim[2] / mask_dim[2],\n",
      "                   )\n",
      "\n",
      "    # Scale the mask according to the input brain\n",
      "    # You might get a warning if the zoom_factor is not an integer but you\n",
      "    # can safely ignore that.\n",
      "    template = ndimage.zoom(mask_raw, zoom_factor, order=2)\n",
      "    template[template < 0] = 0\n",
      "\n",
      "    # If the mask threshold is not supplied then guess it is a minima\n",
      "    # between the two peaks of the bimodal distribution of voxel activity\n",
      "    if mask_threshold is None:\n",
      "\n",
      "        # How many bins on either side of a peak will be compared\n",
      "        order = 5\n",
      "\n",
      "        # Make the histogram\n",
      "        template_vector = template.reshape(brain_dim[0] * brain_dim[1] *\n",
      "                                           brain_dim[2])\n",
      "        template_hist = np.histogram(template_vector, 100)\n",
      "\n",
      "        # Zero pad the values\n",
      "        binval = np.concatenate([np.zeros((order,)), template_hist[0]])\n",
      "        bins = np.concatenate([np.zeros((order,)), template_hist[1]])\n",
      "\n",
      "        # Identify the first two peaks\n",
      "        peaks = signal.argrelmax(binval, order=order)[0][0:2]\n",
      "\n",
      "        # What is the minima between peaks\n",
      "        minima = binval[peaks[0]:peaks[1]].min()\n",
      "\n",
      "        # What is the index of the last idx with this min value (since if\n",
      "        # zero, there may be many)\n",
      "        minima_idx = (np.where(binval[peaks[0]:peaks[1]] == minima) + peaks[\n",
      "            0])[-1]\n",
      "\n",
      "        # Convert the minima into a threshold\n",
      "        mask_threshold = bins[minima_idx][0]\n",
      "\n",
      "    # Mask the template based on the threshold\n",
      "    mask = np.zeros(template.shape)\n",
      "    mask[template > mask_threshold] = 1\n",
      "\n",
      "    return mask, template\n",
      "\n"
     ]
    }
   ],
   "source": [
    "import inspect # this lets you peek what's inside a function\n",
    "\n",
    "source_code = inspect.getsource(sim.mask_brain)\n",
    "print(source_code)"
   ]
  },
  {
   "cell_type": "markdown",
   "metadata": {},
   "source": [
    "**Exercise 1:**<a id=\"ex1\"></a> Building on the axial brain slice you generated above, use the mask and template versions of the MNI152 anatomical standard to generate *three* new visualizations. For example: slice along a different dimension (coronal or sagittal), add subplots with multiple axial slices, show a histogram of values in the slice, etc."
   ]
  },
  {
   "cell_type": "code",
   "execution_count": 6,
   "metadata": {},
   "outputs": [
    {
     "data": {
      "image/png": "[encoded data removed]",
      "text/plain": [
       "<Figure size 640x480 with 1 Axes>"
      ]
     },
     "metadata": {},
     "output_type": "display_data"
    }
   ],
   "source": [
    "# Insert your code here!\n",
    "# Get a coronal slice halfway through the brain\n",
    "\n",
    "mid_idx = 32\n",
    "coronal_slice = template[:, mid_idx, :]\n",
    "\n",
    "# imshow can visualize a 2d array \n",
    "plt.imshow(coronal_slice)\n",
    "plt.title('A coronal brain slice');"
   ]
  },
  {
   "cell_type": "code",
   "execution_count": 7,
   "metadata": {},
   "outputs": [
    {
     "data": {
      "image/png": "[encoded data removed]",
      "text/plain": [
       "<Figure size 640x480 with 1 Axes>"
      ]
     },
     "metadata": {},
     "output_type": "display_data"
    }
   ],
   "source": [
    "# Insert your code here!\n",
    "# Get a sagittal slice halfway through the brain mask (not template)\n",
    "\n",
    "mid_idx = 32\n",
    "sagittal_slice = mask[mid_idx, :, :]\n",
    "\n",
    "# imshow can visualize a 2d array \n",
    "plt.imshow(sagittal_slice)\n",
    "plt.title('A sagittal brain slice');"
   ]
  },
  {
   "cell_type": "code",
   "execution_count": 8,
   "metadata": {},
   "outputs": [
    {
     "data": {
      "image/png": "[encoded data removed]",
      "text/plain": [
       "<Figure size 200x200 with 1 Axes>"
      ]
     },
     "metadata": {},
     "output_type": "display_data"
    }
   ],
   "source": [
    "plt.style.use('_mpl-gallery')\n",
    "fig, ax = plt.subplots(subplot_kw={\"projection\": \"3d\"})\n",
    "ax.voxels(mask, edgecolor='k')\n",
    "ax.set(xticklabels=[],\n",
    "       yticklabels=[],\n",
    "       zticklabels=[])\n",
    "\n",
    "plt.show()"
   ]
  },
  {
   "cell_type": "markdown",
   "metadata": {
    "tags": []
   },
   "source": [
    "**Exercise 2:**<a id=\"ex2\"></a> Congratulations, you just completed your first assignment! Now, you need to submit your assignment to Github classrooms.\n",
    "\n",
    "First, make sure this notebook is saved (it will automatically save every 5 seconds, but never bad to double check!). Then, go to the toolbar at the top and under \"Kernel\" select \"Restart Kernel and Run All Cells\". This runs all the code that you've added here, in order from top to bottom, providing us a clean notebook to grade with all your output. **Make sure that your code has run all the way through by checking the output of each cell. If there is a bug in your code, the entire notebook will stop executing, and we cannot grade it if your code hasn't been run!**\n",
    "\n",
    "Open a shell terminal window and change directory (`cd`) to go into the folder where this notebook is stored (its \"repository\"). Then type the following commands on the command line:\n",
    "\n",
    "`git add -A` This tells Github to add all the files in the current directory to your Github repository. \n",
    "- You can also add individual filenames here, such as `git add cmhn-s23-week01-setup.ipynb` instead, if you only want to add specific files. \n",
    "\n",
    "`git commit -m 'MESSAGE'` This sends those files you added to github with whatever message you want(e.g., “final homework submission”)\n",
    "\n",
    "`git push` Finalize those changes and add them to git! \n",
    "\n",
    "Then, log into your github account in a web browser and make sure it all looks okay online. You can update your homework assignment as many times as you would like before the deadline."
   ]
  },
  {
   "cell_type": "markdown",
   "metadata": {
    "tags": []
   },
   "source": [
    "## Contributions<a id=\"contributions\"></a>\n",
    "  \n",
    "M. Kumar, C. Ellis and N. Turk-Browne produced the initial notebook  01/2018  \n",
    "T. Meissner minor edits  \n",
    "Q. Lu: switch to matplotlib, fix dead links, add resources, encapsulate brainiak fmrisim  \n",
    "C. Ellis updated with comments from cmhn-s19    \n",
    "T. Yates edited notebook for cmhn-s21        \n",
    "E. Busch edited notebook for cmhn-s22  \n",
    "E. Busch edited for Grace cluster and Jupyter Lab for cmhn-s23"
   ]
  },
  {
   "cell_type": "code",
   "execution_count": null,
   "metadata": {},
   "outputs": [],
   "source": []
  }
 ],
 "metadata": {
  "anaconda-cloud": {},
  "kernelspec": {
   "display_name": "Python 3 (ipykernel)",
   "language": "python",
   "name": "python3"
  },
  "language_info": {
   "codemirror_mode": {
    "name": "ipython",
    "version": 3
   },
   "file_extension": ".py",
   "mimetype": "text/x-python",
   "name": "python",
   "nbconvert_exporter": "python",
   "pygments_lexer": "ipython3",
   "version": "3.7.9"
  }
 },
 "nbformat": 4,
 "nbformat_minor": 4
}
